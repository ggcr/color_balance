{
 "cells": [
  {
   "cell_type": "code",
   "execution_count": 158,
   "id": "3233a600",
   "metadata": {},
   "outputs": [],
   "source": [
    "import cv2\n",
    "import numpy as np\n",
    "import requests\n",
    "from matplotlib import pyplot as plt\n",
    "import ipywidgets as widgets\n",
    "from ipywidgets import interact, interact_manual"
   ]
  },
  {
   "cell_type": "code",
   "execution_count": 159,
   "id": "a150254b",
   "metadata": {},
   "outputs": [],
   "source": [
    "url = \"https://raw.githubusercontent.com/opencv/opencv/master/samples/data/lena.jpg\" # lena.jpg"
   ]
  },
  {
   "cell_type": "code",
   "execution_count": 160,
   "id": "3b7e312b",
   "metadata": {},
   "outputs": [],
   "source": [
    "def pull_image(url_path = url):\n",
    "    im = requests.get(url_path).content\n",
    "    with open('lena.jpg', 'wb') as handler:\n",
    "        handler.write(img_data)\n",
    "    return cv2.imread('lena.jpg')\n",
    "\n",
    "def disp(cv2_im):\n",
    "    color = cv2.cvtColor(cv2_im, cv2.COLOR_BGR2RGB)\n",
    "    plt.imshow(color)\n",
    "    \n",
    "def color_balance(bgr_im, scal_R, scal_G, scal_B):\n",
    "    b,g,r = cv2.split(bgr_im)\n",
    "    b = (b * scal_B).astype('uint8')\n",
    "    g = (g * scal_G).astype('uint8')\n",
    "    r = (r * scal_R).astype('uint8')\n",
    "    disp(cv2.merge((b,g,r)))\n",
    "\n",
    "im = pull_image()"
   ]
  },
  {
   "cell_type": "code",
   "execution_count": 161,
   "id": "1663b2b7",
   "metadata": {},
   "outputs": [
    {
     "data": {
      "application/vnd.jupyter.widget-view+json": {
       "model_id": "b921fea0005d4050b7d0f1d2963864ee",
       "version_major": 2,
       "version_minor": 0
      },
      "text/plain": [
       "interactive(children=(FloatSlider(value=1.0, description='RED', max=2.0, step=0.2), FloatSlider(value=1.0, des…"
      ]
     },
     "metadata": {},
     "output_type": "display_data"
    }
   ],
   "source": [
    "@interact\n",
    "def sliders(RED=(0, 2, 0.2), GREEN=(0, 2, 0.2), BLUE=(0, 2, 0.2)):\n",
    "    return color_balance(im, RED, GREEN, BLUE)\n",
    "\n",
    "def color_balance(bgr_im, scal_R, scal_G, scal_B):\n",
    "    b,g,r = cv2.split(bgr_im)\n",
    "    b = (b * scal_B).astype('uint8')\n",
    "    g = (g * scal_G).astype('uint8')\n",
    "    r = (r * scal_R).astype('uint8')\n",
    "    disp(cv2.merge((b,g,r)))"
   ]
  },
  {
   "cell_type": "code",
   "execution_count": null,
   "id": "0125f66a",
   "metadata": {},
   "outputs": [],
   "source": []
  }
 ],
 "metadata": {
  "kernelspec": {
   "display_name": "Python 3 (ipykernel)",
   "language": "python",
   "name": "python3"
  },
  "language_info": {
   "codemirror_mode": {
    "name": "ipython",
    "version": 3
   },
   "file_extension": ".py",
   "mimetype": "text/x-python",
   "name": "python",
   "nbconvert_exporter": "python",
   "pygments_lexer": "ipython3",
   "version": "3.10.8"
  }
 },
 "nbformat": 4,
 "nbformat_minor": 5
}
