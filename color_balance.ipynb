{
 "cells": [
  {
   "cell_type": "code",
   "execution_count": 40,
   "id": "d7f402f9",
   "metadata": {},
   "outputs": [
    {
     "data": {
      "application/vnd.jupyter.widget-view+json": {
       "model_id": "f770ff19612b4486b60cea83461f6418",
       "version_major": 2,
       "version_minor": 0
      },
      "text/plain": [
       "interactive(children=(FloatSlider(value=1.0, description='RED', max=2.0), FloatSlider(value=1.0, description='…"
      ]
     },
     "metadata": {},
     "output_type": "display_data"
    }
   ],
   "source": [
    "import cv2\n",
    "import numpy as np\n",
    "import requests\n",
    "from matplotlib import pyplot as plt\n",
    "import ipywidgets as widgets\n",
    "from ipywidgets import interact, interact_manual\n",
    "import os\n",
    "\n",
    "def pull_image(url_path = \"https://raw.githubusercontent.com/opencv/opencv/master/samples/data/lena.jpg\"):\n",
    "    if not os.path.exists('lena.jpg'):\n",
    "        im = requests.get(url_path).content\n",
    "        with open('lena.jpg', 'wb') as handler:\n",
    "            handler.write(im)\n",
    "    return cv2.imread('lena.jpg')\n",
    "\n",
    "def disp(cv2_im):\n",
    "    color = cv2.cvtColor(cv2_im, cv2.COLOR_BGR2RGB)\n",
    "    plt.axis('off')\n",
    "    plt.imshow(color)\n",
    "\n",
    "@interact\n",
    "def sliders(RED=(0, 2, 0.1), GREEN=(0, 2, 0.1), BLUE=(0, 2, 0.1)):\n",
    "    return color_balance(pull_image(), RED, GREEN, BLUE)\n",
    "\n",
    "def color_balance(bgr_im, scal_R, scal_G, scal_B):\n",
    "    for idx, scalar in list(zip([0,1,2], [scal_B, scal_G, scal_R])):\n",
    "        table = [(i * scalar) for i in range(256)]\n",
    "        table = np.array(table, np.uint8)\n",
    "        bgr_im[:,:,idx] = cv2.LUT(bgr_im[:,:,idx], table)\n",
    "    gammaCorrection(bgr_im, 2.2)\n",
    "    disp(bgr_im)\n",
    "    \n",
    "def gammaCorrection(bgr_im, gamma):\n",
    "    invGamma = 1 / gamma\n",
    "    table = [((i / 255) ** invGamma) * 255 for i in range(256)]\n",
    "    table = np.array(table, np.uint8)\n",
    "    return cv2.LUT(bgr_im, table)"
   ]
  }
 ],
 "metadata": {
  "kernelspec": {
   "display_name": "Python 3 (ipykernel)",
   "language": "python",
   "name": "python3"
  },
  "language_info": {
   "codemirror_mode": {
    "name": "ipython",
    "version": 3
   },
   "file_extension": ".py",
   "mimetype": "text/x-python",
   "name": "python",
   "nbconvert_exporter": "python",
   "pygments_lexer": "ipython3",
   "version": "3.10.8"
  }
 },
 "nbformat": 4,
 "nbformat_minor": 5
}
